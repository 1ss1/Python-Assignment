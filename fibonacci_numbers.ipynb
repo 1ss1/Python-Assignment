{
 "cells": [
  {
   "cell_type": "code",
   "execution_count": null,
   "id": "365c5799-e5b4-4bda-a300-a3e928b5a658",
   "metadata": {},
   "outputs": [],
   "source": [
    "def fibonacci_numbers() :\n",
    "    n = int(input(\"please enter number of elements :\"))\n",
    "    fib_list = [0, 1]\n",
    "    for i in range(n-2):\n",
    "        a = fib_list[-1]\n",
    "        b = fib_list[-2]\n",
    "        c = a + b\n",
    "        fib_list.append(c)\n",
    "    return fib_list\n",
    "fibonacci_numbers()"
   ]
  }
 ],
 "metadata": {
  "kernelspec": {
   "display_name": "Python 3",
   "language": "python",
   "name": "python3"
  },
  "language_info": {
   "codemirror_mode": {
    "name": "ipython",
    "version": 3
   },
   "file_extension": ".py",
   "mimetype": "text/x-python",
   "name": "python",
   "nbconvert_exporter": "python",
   "pygments_lexer": "ipython3",
   "version": "3.8.8"
  }
 },
 "nbformat": 4,
 "nbformat_minor": 5
}
