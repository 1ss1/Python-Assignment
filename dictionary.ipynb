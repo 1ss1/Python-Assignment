{
 "cells": [
  {
   "cell_type": "code",
   "execution_count": 58,
   "id": "9bafa16b-9ca4-4ebe-8111-ce35fa41c872",
   "metadata": {},
   "outputs": [
    {
     "name": "stdout",
     "output_type": "stream",
     "text": [
      "{'h': 1, 'i': 1, 'p': 2, 'o': 2, ' ': 3, 'r': 1, 'u': 2, 'n': 1, 's': 2, 't': 1, '!': 1}\n"
     ]
    }
   ],
   "source": [
    "\n",
    "def dictionary(string):\n",
    "    dict1={}\n",
    "    for i in list(string):\n",
    "        dict1.setdefault(i, list(string).count(i))\n",
    "    return dict1\n",
    "print(dictionary(\"hippo runs to us!\"))"
   ]
  }
 ],
 "metadata": {
  "kernelspec": {
   "display_name": "Python 3",
   "language": "python",
   "name": "python3"
  },
  "language_info": {
   "codemirror_mode": {
    "name": "ipython",
    "version": 3
   },
   "file_extension": ".py",
   "mimetype": "text/x-python",
   "name": "python",
   "nbconvert_exporter": "python",
   "pygments_lexer": "ipython3",
   "version": "3.8.8"
  }
 },
 "nbformat": 4,
 "nbformat_minor": 5
}
