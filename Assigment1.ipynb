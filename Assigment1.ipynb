{
 "cells": [
  {
   "cell_type": "code",
   "execution_count": null,
   "id": "f08aeaad-b056-4e43-9a35-a82ab94a3254",
   "metadata": {},
   "outputs": [],
   "source": [
    "myname = \"SS1\"\n",
    "first_name = input(\"Please input your name to see the password= \")\n",
    "\n",
    "if first_name.title() == myname:\n",
    "  print(f\"Hello SS1! The password is: W@12\")\n",
    "else:\n",
    "  print(f\"Hello {first_name}! See you later.\")\n"
   ]
  },
  {
   "cell_type": "code",
   "execution_count": null,
   "id": "df6fc346-ac4a-4e5c-b45b-266ae681bb6f",
   "metadata": {},
   "outputs": [],
   "source": []
  }
 ],
 "metadata": {
  "kernelspec": {
   "display_name": "Python 3",
   "language": "python",
   "name": "python3"
  },
  "language_info": {
   "codemirror_mode": {
    "name": "ipython",
    "version": 3
   },
   "file_extension": ".py",
   "mimetype": "text/x-python",
   "name": "python",
   "nbconvert_exporter": "python",
   "pygments_lexer": "ipython3",
   "version": "3.8.8"
  }
 },
 "nbformat": 4,
 "nbformat_minor": 5
}
