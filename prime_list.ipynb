{
 "cells": [
  {
   "cell_type": "code",
   "execution_count": null,
   "id": "3d022d81-8000-435f-9579-4a7d31818a7e",
   "metadata": {},
   "outputs": [],
   "source": [
    "n= int(input(\"Please enter a number : \"))\n",
    "list1 = []\n",
    "for i in range(2, n):\n",
    "    for ii in range(2, i):\n",
    "        if i % ii == 0 :\n",
    "            break\n",
    "    else : \n",
    "        list1.append(i)\n",
    "print(list1)"
   ]
  }
 ],
 "metadata": {
  "kernelspec": {
   "display_name": "Python 3",
   "language": "python",
   "name": "python3"
  },
  "language_info": {
   "codemirror_mode": {
    "name": "ipython",
    "version": 3
   },
   "file_extension": ".py",
   "mimetype": "text/x-python",
   "name": "python",
   "nbconvert_exporter": "python",
   "pygments_lexer": "ipython3",
   "version": "3.8.8"
  }
 },
 "nbformat": 4,
 "nbformat_minor": 5
}
