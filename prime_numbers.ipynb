{
 "cells": [
  {
   "cell_type": "code",
   "execution_count": null,
   "id": "34c710f1-d3e6-4ab4-b61f-d37f80301425",
   "metadata": {},
   "outputs": [],
   "source": [
    "number = int(input(\"Please enter a number : \"))\n",
    "\n",
    "for num in range(2,number) :\n",
    "    if number % num == 0 :\n",
    "        print(\"{} is not a prime number.\".format(number))\n",
    "        break\n",
    "else :\n",
    "    print(\"{} is a prime number.\".format(number))\n",
    "        "
   ]
  },
  {
   "cell_type": "code",
   "execution_count": null,
   "id": "6458e58f-e5e3-4c40-92a3-d913bf6aa039",
   "metadata": {},
   "outputs": [],
   "source": []
  }
 ],
 "metadata": {
  "kernelspec": {
   "display_name": "Python 3",
   "language": "python",
   "name": "python3"
  },
  "language_info": {
   "codemirror_mode": {
    "name": "ipython",
    "version": 3
   },
   "file_extension": ".py",
   "mimetype": "text/x-python",
   "name": "python",
   "nbconvert_exporter": "python",
   "pygments_lexer": "ipython3",
   "version": "3.8.8"
  }
 },
 "nbformat": 4,
 "nbformat_minor": 5
}
