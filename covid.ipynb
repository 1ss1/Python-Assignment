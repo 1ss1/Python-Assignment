{
 "cells": [
  {
   "cell_type": "code",
   "execution_count": null,
   "id": "e5397c35-2cf1-4462-9dde-a9ef9a4f0d0c",
   "metadata": {},
   "outputs": [],
   "source": [
    "age = int(input(\"Please enter your age : \"))\n",
    "chronic = input(\"Do you have a severe chronic disease? (yes or no)  : \").lower().strip()\n",
    "cigarette = input(\"Are you a cigarette addict? (yes or no) : \").lower().strip()\n",
    "immune = input(\"Is your immune system too weak? (yes or no) : \").lower().strip()\n",
    "    \n",
    "if age >= 75 or cigarette == \"yes\" or chronic == \"yes\" or immune == \"yes\" :\n",
    "      \n",
    "    if age >= 75 and cigarette == \"yes\" and chronic == \"yes\" and immune == \"yes\" :\n",
    "        print(\"you are at risk of death!!!\")\n",
    "    elif (chronic == \"yes\" and age >= 75) or (\"yes\" and immune == \"yes\") or (chronic == \"yes\" and cigarette == \"yes\") or (age >= 75 and cigarette == \"yes\") or(age >= 75 and immune == \"yes\") or (cigarette == \"yes\" and immune == \"yes\") :\n",
    "        print(\"you are in great danger!!\")\n",
    "    else :\n",
    "        print(\"you are in the risk group!!\")   \n",
    "else :\n",
    "    print(\"You are not in the risk group, but you have to be careful.\")"
   ]
  },
  {
   "cell_type": "code",
   "execution_count": null,
   "id": "f3e8bac5-983f-41a7-83c3-488834d89cef",
   "metadata": {},
   "outputs": [],
   "source": []
  }
 ],
 "metadata": {
  "kernelspec": {
   "display_name": "Python 3",
   "language": "python",
   "name": "python3"
  },
  "language_info": {
   "codemirror_mode": {
    "name": "ipython",
    "version": 3
   },
   "file_extension": ".py",
   "mimetype": "text/x-python",
   "name": "python",
   "nbconvert_exporter": "python",
   "pygments_lexer": "ipython3",
   "version": "3.8.8"
  }
 },
 "nbformat": 4,
 "nbformat_minor": 5
}
